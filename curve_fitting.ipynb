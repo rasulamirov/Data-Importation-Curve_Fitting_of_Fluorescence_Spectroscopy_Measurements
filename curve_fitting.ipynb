{
  "cells": [
    {
      "cell_type": "markdown",
      "metadata": {
        "id": "view-in-github",
        "colab_type": "text"
      },
      "source": [
        "<a href=\"https://colab.research.google.com/github/rasulamirov/Data-Importation-Curve_Fitting_of_Fluorescence_Spectroscopy_Measurements/blob/main/curve_fitting.ipynb\" target=\"_parent\"><img src=\"https://colab.research.google.com/assets/colab-badge.svg\" alt=\"Open In Colab\"/></a>"
      ]
    },
    {
      "cell_type": "code",
      "execution_count": null,
      "metadata": {
        "id": "vQ_RDLw94Ptn"
      },
      "outputs": [],
      "source": [
        "import scipy as sp\n",
        "import struct\n",
        "import numpy as np\n",
        "import pandas as pd \n",
        "import matplotlib.pyplot as plt"
      ]
    },
    {
      "cell_type": "markdown",
      "metadata": {
        "id": "paYLj7p74Ptq"
      },
      "source": [
        "#### Data preparation\n",
        "Need to import the text and the binary files for future use"
      ]
    },
    {
      "cell_type": "code",
      "execution_count": null,
      "metadata": {
        "id": "AYm_NBRp4Ptu"
      },
      "outputs": [],
      "source": [
        "def conv(b):\n",
        "    return b/65535.0*10.0"
      ]
    },
    {
      "cell_type": "code",
      "execution_count": null,
      "metadata": {
        "id": "LX5j6Ysr4Ptu"
      },
      "outputs": [],
      "source": [
        "t = np.arange(0,1000,0.2)\n",
        "\n",
        "## TXTXTTXTTXTXTXTXTTX\n",
        "FID1 = open(r\"Data1.txt\", 'tr')\n",
        "FID2 = open(r\"Data2.txt\", 'tr')\n",
        "FID3 = open(r\"Data3.txt\", 'tr')\n",
        "FID5 = open(r\"Data5.txt\", 'tr')\n",
        "FID6 = open(r\"Data6.txt\", 'tr')\n",
        "\n",
        "\n",
        "FID = [FID1,FID2,FID3,FID5,FID6]\n",
        "\n",
        "\n",
        "\n",
        "\n",
        "Y = []\n",
        "for i in range(len(FID)):\n",
        "    Y.append(FID[i].read().split('\\n'))\n",
        "    Y[i] = [float(i) for i in Y[i]]\n",
        "    Y[i] = np.array(Y[i])\n",
        "    FID[i].close()\n",
        "\n",
        "\n",
        "############ BINARIARY\n",
        "FID4 = open(r\"Data4.dat\", 'rb')\n",
        "buf = FID4.read()\n",
        "lst = []\n",
        "binList = struct.iter_unpack('H', buf)\n",
        "lst = [i[0] for i in binList]\n",
        "arr = np.array(lst)\n",
        "FID4.close()\n",
        "Y4 = conv(arr)\n",
        "Y.insert(3, Y4)\n",
        "\n",
        "\n",
        "t = np.arange(0,1000.05, 0.05)\n",
        "tao = np.array([200.9,5.8,38.6,516.2,57.8,8.9])"
      ]
    },
    {
      "cell_type": "markdown",
      "metadata": {
        "id": "nfk-tnt34Ptv"
      },
      "source": [
        "#### Fitting with cost function\n",
        "I defined a cost funciton, it gives almost perfect results, but takes about 2 minutes to execute\n",
        "** update - I vectorized this stuff, to run the whole 6 solution check in 10 sec"
      ]
    },
    {
      "cell_type": "code",
      "execution_count": null,
      "metadata": {
        "id": "GNIVwzBK4Ptv"
      },
      "outputs": [],
      "source": [
        "def totalFluorescence(A,t):#works \n",
        "    tao = np.array([200.9,5.8,38.6,516.2,57.8,8.9])\n",
        "\n",
        "    return A[0]*np.exp(-t/tao[0])+A[1]*np.exp(-t/tao[1])+A[2]*np.exp(-t/tao[2])+A[3]*np.exp(-t/tao[3])+A[4]*np.exp(-t/tao[4])+A[5]*np.exp(-t/tao[5])"
      ]
    },
    {
      "cell_type": "code",
      "execution_count": null,
      "metadata": {
        "id": "qq1hwCqN4Ptw"
      },
      "outputs": [],
      "source": [
        "def costFunction(A, data):\n",
        "    model = totalFluorescence(A, t)\n",
        "    errorVect = abs(data-model)\n",
        "    return np.mean(errorVect)"
      ]
    },
    {
      "cell_type": "code",
      "execution_count": null,
      "metadata": {
        "id": "ZPCp5B9g4Ptw"
      },
      "outputs": [],
      "source": [
        "def findCoefficients(t,Y):# data for several solutions\n",
        "    dd = pd.DataFrame(columns=['Naphtalene','Anthracene','Benzopyrene','Pyrene','Chrysene','Benzofluoranthene'])\n",
        "    n_compounds = dd.shape[1]\n",
        "    for i in range(len(Y)):\n",
        "        fG = [np.random.uniform(0,15) for i in range(n_compounds)]\n",
        "        res = sp.optimize.minimize(costFunction,fG, args=(Y[i]))\n",
        "        s = pd.DataFrame([res.x], columns=['Naphtalene','Anthracene','Benzopyrene','Pyrene','Chrysene','Benzofluoranthene'])\n",
        "        dd = pd.concat([dd,s], axis=0, ignore_index=True)\n",
        "    return dd"
      ]
    },
    {
      "cell_type": "code",
      "execution_count": null,
      "metadata": {
        "id": "Unt0MnZi4Pty"
      },
      "outputs": [],
      "source": [
        "df = findCoefficients(t, Y)"
      ]
    },
    {
      "cell_type": "code",
      "execution_count": null,
      "metadata": {
        "id": "Av1gIT584Pty",
        "outputId": "258dcea0-b555-4655-a29a-08fe156a5716"
      },
      "outputs": [
        {
          "data": {
            "image/png": "[encoded data removed]",
            "text/plain": [
              "<Figure size 432x288 with 1 Axes>"
            ]
          },
          "metadata": {
            "needs_background": "light"
          },
          "output_type": "display_data"
        }
      ],
      "source": [
        "sol_n_minimized = 5\n",
        "\n",
        "plt.scatter(t,totalFluorescence(df.iloc[sol_n_minimized], t),c='r', label='model', s=0.3)\n",
        "plt.scatter(t,Y[sol_n_minimized],c='b', label='data', s=0.3)\n",
        "plt.show()"
      ]
    },
    {
      "cell_type": "code",
      "execution_count": null,
      "metadata": {
        "id": "jFBlU9wS4Ptz",
        "outputId": "4cc840a0-61ce-42c5-9e4d-5ebc1915c15d"
      },
      "outputs": [
        {
          "data": {
            "text/plain": [
              "<matplotlib.collections.PathCollection at 0x208100d0820>"
            ]
          },
          "execution_count": 559,
          "metadata": {},
          "output_type": "execute_result"
        },
        {
          "data": {
            "image/png": "[encoded data removed]",
            "text/plain": [
              "<Figure size 432x288 with 1 Axes>"
            ]
          },
          "metadata": {
            "needs_background": "light"
          },
          "output_type": "display_data"
        }
      ],
      "source": [
        "plt.scatter(t,Y[4],c='r', label='data',s=0.4)\n"
      ]
    },
    {
      "cell_type": "markdown",
      "metadata": {
        "id": "nTcrrYDG4Ptz"
      },
      "source": [
        "#### Testing some other total fluorescence function"
      ]
    },
    {
      "cell_type": "code",
      "execution_count": null,
      "metadata": {
        "id": "555SeKsS4Pt0"
      },
      "outputs": [],
      "source": [
        "def totalFluorescenceGeneral(A,t):#works \n",
        "    tao = np.array([200.9,5.8,38.6,516.2,57.8,8.9])\n",
        "    return np.divide(np.broadcast_to(t,shape=(6,20001)).T,tao).sum(axis=0)"
      ]
    },
    {
      "cell_type": "code",
      "execution_count": null,
      "metadata": {
        "id": "Lw0enW1H4Pt0",
        "outputId": "818d596e-2bf4-452c-fe83-25e367ee4b21"
      },
      "outputs": [
        {
          "data": {
            "text/plain": [
              "array([  49778.49676456, 1724224.13793103,  259080.31088083,\n",
              "         19373.30492057,  173019.03114187, 1123651.68539326])"
            ]
          },
          "execution_count": 561,
          "metadata": {},
          "output_type": "execute_result"
        }
      ],
      "source": [
        "np.divide(np.broadcast_to(t,shape=(6,20001)).T,tao).sum(axis=0)"
      ]
    },
    {
      "cell_type": "code",
      "execution_count": null,
      "metadata": {
        "id": "h-poGYhy4Pt0"
      },
      "outputs": [],
      "source": [
        "import time\n",
        "tot = []\n",
        "for j in range(500,600):\n",
        "    tt = tt1 =0\n",
        "    for i in range(j):\n",
        "        tic = time.perf_counter()\n",
        "        np.outer(t.reshape(t.shape[0],-1),1/tao).sum(axis=0)\n",
        "        toc = time.perf_counter()\n",
        "        tt+=toc-tic\n",
        "        tic = time.perf_counter()\n",
        "        np.divide(np.broadcast_to(t,shape=(6,20001)).T,tao).sum(axis=0)\n",
        "        toc = time.perf_counter()\n",
        "        tt1+=toc-tic\n",
        "    tot.append([tt,tt1])"
      ]
    },
    {
      "cell_type": "code",
      "execution_count": null,
      "metadata": {
        "id": "A7UzR_we4Pt0",
        "outputId": "89cdfedd-6dd2-414d-d4b1-5935b253d059"
      },
      "outputs": [
        {
          "data": {
            "image/png": "[encoded data removed]",
            "text/plain": [
              "<Figure size 432x288 with 1 Axes>"
            ]
          },
          "metadata": {
            "needs_background": "light"
          },
          "output_type": "display_data"
        }
      ],
      "source": [
        "plt.scatter(np.arange(500,600),np.array(tot)[:,0],c='r',label='General')\n",
        "plt.scatter(np.arange(500,600),np.array(tot)[:,1],c='b',label='Particular')\n",
        "plt.legend()\n",
        "plt.show()"
      ]
    },
    {
      "cell_type": "markdown",
      "metadata": {
        "id": "EJk11plx4Pt0"
      },
      "source": [
        "#### Optimization with curve_fitting and comparison with minimization"
      ]
    },
    {
      "cell_type": "code",
      "execution_count": null,
      "metadata": {
        "id": "vMqWVqvW4Pt1"
      },
      "outputs": [],
      "source": [
        "def totalFluorescenceDifferent(t,A1,A2,A3,A4,A5,A6):#works \n",
        "    tao = np.array([200.9,5.8,38.6,516.2,57.8,8.9])\n",
        "\n",
        "    return A1*np.exp(-t/tao[0])+A2*np.exp(-t/tao[1])+A3*np.exp(-t/tao[2])+A4*np.exp(-t/tao[3])+A5*np.exp(-t/tao[4])+A6*np.exp(-t/tao[5])"
      ]
    },
    {
      "cell_type": "code",
      "execution_count": null,
      "metadata": {
        "id": "e0zmEERf4Pt1"
      },
      "outputs": [],
      "source": [
        "def findCoefficientsOptimization(t,Y):# data for several solutions\n",
        "    dd = pd.DataFrame(columns=['Naphtalene','Anthracene','Benzopyrene','Pyrene','Chrysene','Benzofluoranthene'])\n",
        "    #n_compounds = dd.shape[1]\n",
        "    for i in range(len(Y)):\n",
        "        #fG = [np.random.uniform(0,15) for i in range(n_compounds)]\n",
        "        #popt, pcov = sp.optimize.curve_fit(totalFluorescence,t, Y[i])\n",
        "        # bounds - limits of the coefficients\n",
        "        popt, pcov = sp.optimize.curve_fit(totalFluorescenceDifferent,t, Y[i], bounds=(0, [10., 10., 10., 10., 10., 10.]))\n",
        "        s = pd.DataFrame([popt], columns=['Naphtalene','Anthracene','Benzopyrene','Pyrene','Chrysene','Benzofluoranthene'])\n",
        "        dd = pd.concat([dd,s], axis=0, ignore_index=True)\n",
        "    return dd"
      ]
    },
    {
      "cell_type": "code",
      "execution_count": null,
      "metadata": {
        "id": "2eD3dCJh4Pt2",
        "outputId": "0976c8e8-f43e-47cf-9dc5-def2502cda2d"
      },
      "outputs": [
        {
          "data": {
            "text/html": [
              "<div>\n",
              "<style scoped>\n",
              "    .dataframe tbody tr th:only-of-type {\n",
              "        vertical-align: middle;\n",
              "    }\n",
              "\n",
              "    .dataframe tbody tr th {\n",
              "        vertical-align: top;\n",
              "    }\n",
              "\n",
              "    .dataframe thead th {\n",
              "        text-align: right;\n",
              "    }\n",
              "</style>\n",
              "<table border=\"1\" class=\"dataframe\">\n",
              "  <thead>\n",
              "    <tr style=\"text-align: right;\">\n",
              "      <th></th>\n",
              "      <th>Naphtalene</th>\n",
              "      <th>Anthracene</th>\n",
              "      <th>Benzopyrene</th>\n",
              "      <th>Pyrene</th>\n",
              "      <th>Chrysene</th>\n",
              "      <th>Benzofluoranthene</th>\n",
              "    </tr>\n",
              "  </thead>\n",
              "  <tbody>\n",
              "    <tr>\n",
              "      <th>0</th>\n",
              "      <td>9.999915e-01</td>\n",
              "      <td>1.720505e-06</td>\n",
              "      <td>3.223969e-06</td>\n",
              "      <td>3.832191e-06</td>\n",
              "      <td>3.677247e-06</td>\n",
              "      <td>1.882758e-06</td>\n",
              "    </tr>\n",
              "    <tr>\n",
              "      <th>1</th>\n",
              "      <td>2.905004e-06</td>\n",
              "      <td>1.999991e+00</td>\n",
              "      <td>2.181238e-06</td>\n",
              "      <td>2.999998e+00</td>\n",
              "      <td>2.135735e-06</td>\n",
              "      <td>5.003219e-08</td>\n",
              "    </tr>\n",
              "    <tr>\n",
              "      <th>2</th>\n",
              "      <td>9.999853e-01</td>\n",
              "      <td>1.999929e+00</td>\n",
              "      <td>2.999901e+00</td>\n",
              "      <td>4.000004e+00</td>\n",
              "      <td>8.421518e-05</td>\n",
              "      <td>9.228130e-05</td>\n",
              "    </tr>\n",
              "    <tr>\n",
              "      <th>3</th>\n",
              "      <td>4.999727e+00</td>\n",
              "      <td>2.185219e-08</td>\n",
              "      <td>1.986513e-09</td>\n",
              "      <td>8.666941e-12</td>\n",
              "      <td>3.000275e+00</td>\n",
              "      <td>1.431289e-08</td>\n",
              "    </tr>\n",
              "    <tr>\n",
              "      <th>4</th>\n",
              "      <td>2.389451e-19</td>\n",
              "      <td>2.384677e-20</td>\n",
              "      <td>1.527896e+00</td>\n",
              "      <td>4.831032e-18</td>\n",
              "      <td>2.029759e-21</td>\n",
              "      <td>1.418323e+00</td>\n",
              "    </tr>\n",
              "    <tr>\n",
              "      <th>5</th>\n",
              "      <td>4.002272e-16</td>\n",
              "      <td>7.263170e-20</td>\n",
              "      <td>1.550811e+00</td>\n",
              "      <td>2.186189e-15</td>\n",
              "      <td>1.020626e-18</td>\n",
              "      <td>1.383265e+00</td>\n",
              "    </tr>\n",
              "  </tbody>\n",
              "</table>\n",
              "</div>"
            ],
            "text/plain": [
              "     Naphtalene    Anthracene   Benzopyrene        Pyrene      Chrysene  \\\n",
              "0  9.999915e-01  1.720505e-06  3.223969e-06  3.832191e-06  3.677247e-06   \n",
              "1  2.905004e-06  1.999991e+00  2.181238e-06  2.999998e+00  2.135735e-06   \n",
              "2  9.999853e-01  1.999929e+00  2.999901e+00  4.000004e+00  8.421518e-05   \n",
              "3  4.999727e+00  2.185219e-08  1.986513e-09  8.666941e-12  3.000275e+00   \n",
              "4  2.389451e-19  2.384677e-20  1.527896e+00  4.831032e-18  2.029759e-21   \n",
              "5  4.002272e-16  7.263170e-20  1.550811e+00  2.186189e-15  1.020626e-18   \n",
              "\n",
              "   Benzofluoranthene  \n",
              "0       1.882758e-06  \n",
              "1       5.003219e-08  \n",
              "2       9.228130e-05  \n",
              "3       1.431289e-08  \n",
              "4       1.418323e+00  \n",
              "5       1.383265e+00  "
            ]
          },
          "execution_count": 613,
          "metadata": {},
          "output_type": "execute_result"
        }
      ],
      "source": [
        "coefficients = findCoefficientsOptimization(t,Y)\n",
        "coefficients"
      ]
    },
    {
      "cell_type": "code",
      "execution_count": null,
      "metadata": {
        "id": "MwzB903X4Pt2",
        "outputId": "282ac9e9-6d8f-4f0b-86b2-c10f77b51494"
      },
      "outputs": [
        {
          "data": {
            "image/png": "[encoded data removed]",
            "text/plain": [
              "<Figure size 432x288 with 1 Axes>"
            ]
          },
          "metadata": {
            "needs_background": "light"
          },
          "output_type": "display_data"
        }
      ],
      "source": [
        "# Change to see how Curve fitted model predicts for Nth sample\n",
        "sol_n = 2\n",
        "\n",
        "plt.scatter(t,totalFluorescenceDifferent(t,*coefficients.iloc[sol_n]),c='r',label='model', s=2, alpha=0.4)\n",
        "plt.scatter(t,Y[sol_n],c='b',label='data', s=1,alpha=0.4)\n",
        "plt.legend()\n",
        "plt.show()"
      ]
    },
    {
      "cell_type": "code",
      "execution_count": null,
      "metadata": {
        "id": "8_m_Dfgs4Pt3"
      },
      "outputs": [],
      "source": [
        "popt, pcov = sp.optimize.curve_fit(totalFluorescenceDifferent,t, Y[3], bounds=(0, [10., 10., 10., 10., 10., 10.]))"
      ]
    },
    {
      "cell_type": "code",
      "execution_count": null,
      "metadata": {
        "id": "JDI0K_5A4Pt3",
        "outputId": "569f6767-764c-435a-8fa0-48fb15940092"
      },
      "outputs": [
        {
          "data": {
            "text/html": [
              "<div>\n",
              "<style scoped>\n",
              "    .dataframe tbody tr th:only-of-type {\n",
              "        vertical-align: middle;\n",
              "    }\n",
              "\n",
              "    .dataframe tbody tr th {\n",
              "        vertical-align: top;\n",
              "    }\n",
              "\n",
              "    .dataframe thead th {\n",
              "        text-align: right;\n",
              "    }\n",
              "</style>\n",
              "<table border=\"1\" class=\"dataframe\">\n",
              "  <thead>\n",
              "    <tr style=\"text-align: right;\">\n",
              "      <th></th>\n",
              "      <th>Naphtalene</th>\n",
              "      <th>Anthracene</th>\n",
              "      <th>Benzopyrene</th>\n",
              "      <th>Pyrene</th>\n",
              "      <th>Chrysene</th>\n",
              "      <th>Benzofluoranthene</th>\n",
              "    </tr>\n",
              "  </thead>\n",
              "  <tbody>\n",
              "    <tr>\n",
              "      <th>0</th>\n",
              "      <td>1.000000e+00</td>\n",
              "      <td>-4.969085e-07</td>\n",
              "      <td>1.333670e-07</td>\n",
              "      <td>-2.187122e-08</td>\n",
              "      <td>-1.474612e-07</td>\n",
              "      <td>2.676581e-07</td>\n",
              "    </tr>\n",
              "    <tr>\n",
              "      <th>1</th>\n",
              "      <td>3.822812e-08</td>\n",
              "      <td>2.000000e+00</td>\n",
              "      <td>9.718994e-08</td>\n",
              "      <td>3.000000e+00</td>\n",
              "      <td>-9.881723e-08</td>\n",
              "      <td>6.807560e-08</td>\n",
              "    </tr>\n",
              "    <tr>\n",
              "      <th>2</th>\n",
              "      <td>1.000000e+00</td>\n",
              "      <td>2.000000e+00</td>\n",
              "      <td>3.000000e+00</td>\n",
              "      <td>4.000000e+00</td>\n",
              "      <td>-1.419400e-07</td>\n",
              "      <td>-3.395507e-07</td>\n",
              "    </tr>\n",
              "    <tr>\n",
              "      <th>3</th>\n",
              "      <td>5.000580e+00</td>\n",
              "      <td>5.069102e-04</td>\n",
              "      <td>1.188554e-03</td>\n",
              "      <td>-3.626833e-04</td>\n",
              "      <td>2.998744e+00</td>\n",
              "      <td>-7.012095e-04</td>\n",
              "    </tr>\n",
              "    <tr>\n",
              "      <th>4</th>\n",
              "      <td>-2.104513e-05</td>\n",
              "      <td>-3.182784e-01</td>\n",
              "      <td>1.490068e+00</td>\n",
              "      <td>2.075936e-06</td>\n",
              "      <td>5.229122e-03</td>\n",
              "      <td>1.693951e+00</td>\n",
              "    </tr>\n",
              "    <tr>\n",
              "      <th>5</th>\n",
              "      <td>3.023052e-05</td>\n",
              "      <td>-1.968304e-01</td>\n",
              "      <td>1.514563e+00</td>\n",
              "      <td>-2.789595e-06</td>\n",
              "      <td>-8.599343e-03</td>\n",
              "      <td>1.459918e+00</td>\n",
              "    </tr>\n",
              "  </tbody>\n",
              "</table>\n",
              "</div>"
            ],
            "text/plain": [
              "     Naphtalene    Anthracene   Benzopyrene        Pyrene      Chrysene  \\\n",
              "0  1.000000e+00 -4.969085e-07  1.333670e-07 -2.187122e-08 -1.474612e-07   \n",
              "1  3.822812e-08  2.000000e+00  9.718994e-08  3.000000e+00 -9.881723e-08   \n",
              "2  1.000000e+00  2.000000e+00  3.000000e+00  4.000000e+00 -1.419400e-07   \n",
              "3  5.000580e+00  5.069102e-04  1.188554e-03 -3.626833e-04  2.998744e+00   \n",
              "4 -2.104513e-05 -3.182784e-01  1.490068e+00  2.075936e-06  5.229122e-03   \n",
              "5  3.023052e-05 -1.968304e-01  1.514563e+00 -2.789595e-06 -8.599343e-03   \n",
              "\n",
              "   Benzofluoranthene  \n",
              "0       2.676581e-07  \n",
              "1       6.807560e-08  \n",
              "2      -3.395507e-07  \n",
              "3      -7.012095e-04  \n",
              "4       1.693951e+00  \n",
              "5       1.459918e+00  "
            ]
          },
          "execution_count": 567,
          "metadata": {},
          "output_type": "execute_result"
        }
      ],
      "source": [
        "findCoefficients(t,Y)"
      ]
    },
    {
      "cell_type": "markdown",
      "metadata": {
        "id": "0LTggVSK4Pt3"
      },
      "source": [
        "#### Just testing artificial data"
      ]
    },
    {
      "cell_type": "code",
      "execution_count": null,
      "metadata": {
        "id": "at3TjkO14Pt3"
      },
      "outputs": [],
      "source": [
        "\n",
        "K = 6*np.exp(-t/200.9)+3*np.exp(-t/516.2)+8*np.exp(-t/5.8)+np.random.normal(0.5, 0.3, size=t.shape)\n",
        "poptt, pcovt = sp.optimize.curve_fit(totalFluorescenceDifferent, t, K, bounds=(0,[10., 10., 10., 10., 10., 10.]))\n",
        "\n"
      ]
    },
    {
      "cell_type": "code",
      "execution_count": null,
      "metadata": {
        "id": "aGAmeid64Pt3",
        "outputId": "fc50ac49-d516-4cf4-b6d2-82d6dc713fb3"
      },
      "outputs": [
        {
          "data": {
            "text/plain": [
              "<matplotlib.collections.PathCollection at 0x20810648f40>"
            ]
          },
          "execution_count": 579,
          "metadata": {},
          "output_type": "execute_result"
        },
        {
          "data": {
            "image/png": "[encoded data removed]",
            "text/plain": [
              "<Figure size 432x288 with 1 Axes>"
            ]
          },
          "metadata": {
            "needs_background": "light"
          },
          "output_type": "display_data"
        }
      ],
      "source": [
        "plt.scatter(t, K, c='r',s=0.4)\n",
        "plt.scatter(t, totalFluorescenceDifferent(t,*poptt), c='b',s=0.4)\n"
      ]
    },
    {
      "cell_type": "code",
      "execution_count": null,
      "metadata": {
        "id": "2Njr70QK4Pt4"
      },
      "outputs": [],
      "source": []
    }
  ],
  "metadata": {
    "kernelspec": {
      "display_name": "Python 3.10.6 ('vscode_env')",
      "language": "python",
      "name": "python3"
    },
    "language_info": {
      "codemirror_mode": {
        "name": "ipython",
        "version": 3
      },
      "file_extension": ".py",
      "mimetype": "text/x-python",
      "name": "python",
      "nbconvert_exporter": "python",
      "pygments_lexer": "ipython3",
      "version": "3.10.6"
    },
    "orig_nbformat": 4,
    "vscode": {
      "interpreter": {
        "hash": "62d7443678304acc69a3301fb2693a0f777f55f2c155ef57df550c57ab171fc0"
      }
    },
    "colab": {
      "provenance": [],
      "include_colab_link": true
    }
  },
  "nbformat": 4,
  "nbformat_minor": 0
}